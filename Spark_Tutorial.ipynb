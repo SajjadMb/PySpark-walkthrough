{
  "nbformat": 4,
  "nbformat_minor": 0,
  "metadata": {
    "colab": {
      "name": "Spark_Tutorial.ipynb",
      "provenance": [],
      "collapsed_sections": [],
      "toc_visible": true
    },
    "kernelspec": {
      "name": "python3",
      "display_name": "Python 3"
    },
    "language_info": {
      "name": "python"
    }
  },
  "cells": [
    {
      "cell_type": "markdown",
      "source": [
        "# Introduction to PySpark\n",
        "PySpark is \n",
        "- A general-purpose\n",
        "- In-memory \n",
        "- Distributed processing engine\n",
        "\n",
        "that allows you to process data efficiently in a distributed fashion. PySpark natively has machine learning and graph libraries. "
      ],
      "metadata": {
        "id": "R_5b0WPAn796"
      }
    },
    {
      "cell_type": "markdown",
      "metadata": {
        "id": "j4AXpPjKAJRP"
      },
      "source": [
        "## Installation"
      ]
    },
    {
      "cell_type": "markdown",
      "source": [
        "\n",
        "### Run On Docker \n",
        "Pyspark Is already installed on this docker:\n",
        "1. install docker\n",
        "2. docker pull jupyter/all-spark-notebook\n",
        "3. docker run -d --name notebook -p 10000:8888 -e JUPYTER_ENABLE_LAB=yes -v ~/Development/DockerWorkspace:/home/jovyan/work jupyter/all-spark-notebook"
      ],
      "metadata": {
        "id": "ZVoRjB1cKhkK"
      }
    },
    {
      "cell_type": "markdown",
      "source": [
        "### Or Run on Colab\n",
        "You can simply install it by `pip`.\n",
        "```\n",
        "$ pip install pyspark\n",
        "$ pyspark\n",
        "```"
      ],
      "metadata": {
        "id": "Ech4Vb0ZtIXQ"
      }
    },
    {
      "cell_type": "code",
      "source": [
        "! pip install -q pyspark"
      ],
      "metadata": {
        "id": "qyfeTEYZ7cfO"
      },
      "execution_count": null,
      "outputs": []
    },
    {
      "cell_type": "markdown",
      "source": [
        "Install Open JDK for Spark and Hadoop\n"
      ],
      "metadata": {
        "id": "hyrUsZG16vtJ"
      }
    },
    {
      "cell_type": "code",
      "source": [
        "! apt-get install openjdk-8-jdk-headless -qq > /dev/null\n",
        "! wget -q https://dlcdn.apache.org/spark/spark-3.2.1/spark-3.2.1-bin-hadoop3.2.tgz\n",
        "! tar xf spark-3.2.1-bin-hadoop3.2.tgz"
      ],
      "metadata": {
        "id": "WgDE_DqS6RJ8"
      },
      "execution_count": null,
      "outputs": []
    },
    {
      "cell_type": "markdown",
      "source": [
        "First We need to fix environment variables"
      ],
      "metadata": {
        "id": "7V8K04tc7AXU"
      }
    },
    {
      "cell_type": "code",
      "source": [
        "import os\n",
        "os.environ[\"JAVA_HOME\"] = \"/usr/lib/jvm/java-8-openjdk-amd64\"\n",
        "os.environ[\"SPARK_HOME\"] = \"/content/spark-3.2.1-bin-hadoop3.2\""
      ],
      "metadata": {
        "id": "KCjtSrr85Tlk"
      },
      "execution_count": null,
      "outputs": []
    },
    {
      "cell_type": "markdown",
      "source": [
        "Then we use `Findspark` to find spark executable\n"
      ],
      "metadata": {
        "id": "3fDySHKJ5UJ3"
      }
    },
    {
      "cell_type": "code",
      "source": [
        "! pip install -q findspark"
      ],
      "metadata": {
        "id": "qAHGaait5gnK"
      },
      "execution_count": null,
      "outputs": []
    },
    {
      "cell_type": "code",
      "source": [
        "import findspark\n",
        "findspark.init()\n",
        "findspark.find()"
      ],
      "metadata": {
        "colab": {
          "base_uri": "https://localhost:8080/",
          "height": 35
        },
        "id": "XdP2X9IU5Yc_",
        "outputId": "df3a5b5c-4f8a-4db8-96cc-034c9e744bcf"
      },
      "execution_count": null,
      "outputs": [
        {
          "output_type": "execute_result",
          "data": {
            "application/vnd.google.colaboratory.intrinsic+json": {
              "type": "string"
            },
            "text/plain": [
              "'/content/spark-3.2.1-bin-hadoop3.2'"
            ]
          },
          "metadata": {},
          "execution_count": 5
        }
      ]
    },
    {
      "cell_type": "markdown",
      "source": [
        "## Create Spark Session\n"
      ],
      "metadata": {
        "id": "c5lIquXD5kEC"
      }
    },
    {
      "cell_type": "code",
      "source": [
        "# First Method\n",
        "from pyspark.sql import SparkSession\n",
        "\n",
        "spark = SparkSession.builder\\\n",
        "        .master(\"local\")\\\n",
        "        .appName(\"Colab\")\\\n",
        "        .getOrCreate()\n",
        "\n",
        "sc = spark.sparkContext"
      ],
      "metadata": {
        "id": "mwavW3oE7Meh"
      },
      "execution_count": null,
      "outputs": []
    },
    {
      "cell_type": "code",
      "source": [
        "spark.version"
      ],
      "metadata": {
        "colab": {
          "base_uri": "https://localhost:8080/",
          "height": 35
        },
        "id": "vNPe_QQQBE-5",
        "outputId": "d5b814fd-8829-4687-d7cb-3858b0d3c820"
      },
      "execution_count": null,
      "outputs": [
        {
          "output_type": "execute_result",
          "data": {
            "application/vnd.google.colaboratory.intrinsic+json": {
              "type": "string"
            },
            "text/plain": [
              "'3.2.1'"
            ]
          },
          "metadata": {},
          "execution_count": 43
        }
      ]
    },
    {
      "cell_type": "code",
      "execution_count": null,
      "metadata": {
        "id": "k2s96QYZAJRT"
      },
      "outputs": [],
      "source": [
        "from pyspark import SparkContext\n",
        "\n",
        "# run this cell only once\n",
        "sc = SparkContext()\n",
        "spark = SparkSession(sc)"
      ]
    },
    {
      "cell_type": "markdown",
      "source": [
        "## PySpark DataFrame\n",
        "PySpark DataFrames are lazily evaluated. They are implemented on top of RDDs. When Spark transforms data, it does not immediately compute the transformation but plans how to compute later. When actions such as `collect()` are explicitly called, the computation starts. "
      ],
      "metadata": {
        "id": "Fr8jbljlpbxf"
      }
    },
    {
      "cell_type": "markdown",
      "source": [
        "### What is Action?\n",
        "Here is [link](https://spark.apache.org/docs/latest/rdd-programming-guide.html#transformations) for more.\n",
        "![image.png](data:image/png;base64,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)"
      ],
      "metadata": {
        "id": "SLhZLRr9sOOE"
      }
    },
    {
      "cell_type": "markdown",
      "source": [
        "### What is Transformation?\n",
        "Here is [link](https://spark.apache.org/docs/latest/rdd-programming-guide.html#actions) for more.\n",
        "![image.png](data:image/png;base64,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)"
      ],
      "metadata": {
        "id": "GOsAfJcaoyyV"
      }
    },
    {
      "cell_type": "markdown",
      "source": [
        "## Spark DataFrame"
      ],
      "metadata": {
        "id": "r9K-ft-UBChS"
      }
    },
    {
      "cell_type": "markdown",
      "source": [
        "Import Spark Context and import other necessary utils"
      ],
      "metadata": {
        "id": "KKJ0LdTX74Em"
      }
    },
    {
      "cell_type": "code",
      "source": [
        "from datetime import datetime, date\n",
        "import pandas as pd\n",
        "from pyspark.sql import Row\n",
        "\n",
        "df = spark.createDataFrame([\n",
        "    Row(a=1, b=2., c='string1', d=date(2000, 1, 1), e=datetime(2000, 1, 1, 12, 0)),\n",
        "    Row(a=2, b=3., c='string2', d=date(2000, 2, 1), e=datetime(2000, 1, 2, 12, 0)),\n",
        "    Row(a=4, b=5., c='string3', d=date(2000, 3, 1), e=datetime(2000, 1, 3, 12, 0))\n",
        "])\n",
        "df"
      ],
      "metadata": {
        "colab": {
          "base_uri": "https://localhost:8080/"
        },
        "id": "6DqgqB0W8Qn6",
        "outputId": "6944f5cc-46e1-4b75-eb9f-9c97b7e007d6"
      },
      "execution_count": null,
      "outputs": [
        {
          "output_type": "execute_result",
          "data": {
            "text/plain": [
              "DataFrame[a: bigint, b: double, c: string, d: date, e: timestamp]"
            ]
          },
          "metadata": {},
          "execution_count": 19
        }
      ]
    },
    {
      "cell_type": "markdown",
      "source": [
        "#### Let's See the created DataFrame."
      ],
      "metadata": {
        "id": "1WxYHNQE8qG_"
      }
    },
    {
      "cell_type": "code",
      "source": [
        "df.show()"
      ],
      "metadata": {
        "colab": {
          "base_uri": "https://localhost:8080/"
        },
        "id": "drTOpPxw8YZv",
        "outputId": "b93675db-d600-4baf-a3ea-e9f4847e3f4b"
      },
      "execution_count": null,
      "outputs": [
        {
          "output_type": "stream",
          "name": "stdout",
          "text": [
            "+---+---+-------+----------+-------------------+\n",
            "|  a|  b|      c|         d|                  e|\n",
            "+---+---+-------+----------+-------------------+\n",
            "|  1|2.0|string1|2000-01-01|2000-01-01 12:00:00|\n",
            "|  2|3.0|string2|2000-02-01|2000-01-02 12:00:00|\n",
            "|  4|5.0|string3|2000-03-01|2000-01-03 12:00:00|\n",
            "+---+---+-------+----------+-------------------+\n",
            "\n"
          ]
        }
      ]
    },
    {
      "cell_type": "code",
      "source": [
        "df.printSchema()"
      ],
      "metadata": {
        "colab": {
          "base_uri": "https://localhost:8080/"
        },
        "id": "ugS4qPYl8n-i",
        "outputId": "fbb83eba-1cfc-4c67-e3fc-a8c1a116d942"
      },
      "execution_count": null,
      "outputs": [
        {
          "output_type": "stream",
          "name": "stdout",
          "text": [
            "root\n",
            " |-- a: long (nullable = true)\n",
            " |-- b: double (nullable = true)\n",
            " |-- c: string (nullable = true)\n",
            " |-- d: date (nullable = true)\n",
            " |-- e: timestamp (nullable = true)\n",
            "\n"
          ]
        }
      ]
    },
    {
      "cell_type": "markdown",
      "source": [
        "Show only first row."
      ],
      "metadata": {
        "id": "5pyKMijw9ps2"
      }
    },
    {
      "cell_type": "code",
      "source": [
        "df.show(1)"
      ],
      "metadata": {
        "colab": {
          "base_uri": "https://localhost:8080/"
        },
        "id": "PJTr5zTy9jsJ",
        "outputId": "d2998640-6317-4d09-d2a6-b4a8da69599e"
      },
      "execution_count": null,
      "outputs": [
        {
          "output_type": "stream",
          "name": "stdout",
          "text": [
            "+---+---+-------+----------+-------------------+\n",
            "|  a|  b|      c|         d|                  e|\n",
            "+---+---+-------+----------+-------------------+\n",
            "|  1|2.0|string1|2000-01-01|2000-01-01 12:00:00|\n",
            "+---+---+-------+----------+-------------------+\n",
            "only showing top 1 row\n",
            "\n"
          ]
        }
      ]
    },
    {
      "cell_type": "markdown",
      "source": [
        "#### Select columns"
      ],
      "metadata": {
        "id": "GB8V84DR9_Up"
      }
    },
    {
      "cell_type": "code",
      "source": [
        "df.select(\"a\", \"b\", \"c\").show()"
      ],
      "metadata": {
        "colab": {
          "base_uri": "https://localhost:8080/"
        },
        "id": "fgtyxjVX9-12",
        "outputId": "cd47f4f8-2d51-4e30-a2dd-fbf3015ef9df"
      },
      "execution_count": null,
      "outputs": [
        {
          "output_type": "stream",
          "name": "stdout",
          "text": [
            "+---+---+-------+\n",
            "|  a|  b|      c|\n",
            "+---+---+-------+\n",
            "|  1|2.0|string1|\n",
            "|  2|3.0|string2|\n",
            "|  4|5.0|string3|\n",
            "+---+---+-------+\n",
            "\n"
          ]
        }
      ]
    },
    {
      "cell_type": "markdown",
      "source": [
        "#### Descrive a Selection"
      ],
      "metadata": {
        "id": "ulK7Gsw693UN"
      }
    },
    {
      "cell_type": "code",
      "source": [
        "df.select(\"a\", \"b\", \"c\").describe().show()"
      ],
      "metadata": {
        "colab": {
          "base_uri": "https://localhost:8080/"
        },
        "id": "WF784iFH9oLU",
        "outputId": "f0fd6751-301e-4b67-e15f-64c9cbf75e77"
      },
      "execution_count": null,
      "outputs": [
        {
          "output_type": "stream",
          "name": "stdout",
          "text": [
            "+-------+------------------+------------------+-------+\n",
            "|summary|                 a|                 b|      c|\n",
            "+-------+------------------+------------------+-------+\n",
            "|  count|                 3|                 3|      3|\n",
            "|   mean|2.3333333333333335|3.3333333333333335|   null|\n",
            "| stddev|1.5275252316519465|1.5275252316519465|   null|\n",
            "|    min|                 1|               2.0|string1|\n",
            "|    max|                 4|               5.0|string3|\n",
            "+-------+------------------+------------------+-------+\n",
            "\n"
          ]
        }
      ]
    },
    {
      "cell_type": "markdown",
      "source": [
        "#### Collect\n",
        "`DataFrame.collect()` collects the distributed data to the driver side as the local data in Python. Note that this can throw an out-of-memory error when the dataset is too large to fit in the driver side because it collects all the data from executors to the driver side."
      ],
      "metadata": {
        "id": "N88KK-oe-SlS"
      }
    },
    {
      "cell_type": "code",
      "source": [
        "df.collect()"
      ],
      "metadata": {
        "colab": {
          "base_uri": "https://localhost:8080/"
        },
        "id": "2eHpRb6992po",
        "outputId": "02d25fe0-99fc-4442-b7c4-1ac14ab036a0"
      },
      "execution_count": null,
      "outputs": [
        {
          "output_type": "execute_result",
          "data": {
            "text/plain": [
              "[Row(a=1, b=2.0, c='string1', d=datetime.date(2000, 1, 1), e=datetime.datetime(2000, 1, 1, 12, 0)),\n",
              " Row(a=2, b=3.0, c='string2', d=datetime.date(2000, 2, 1), e=datetime.datetime(2000, 1, 2, 12, 0)),\n",
              " Row(a=4, b=5.0, c='string3', d=datetime.date(2000, 3, 1), e=datetime.datetime(2000, 1, 3, 12, 0))]"
            ]
          },
          "metadata": {},
          "execution_count": 30
        }
      ]
    },
    {
      "cell_type": "markdown",
      "source": [
        "In order to avoid throwing an out-of-memory exception, use `DataFrame.take()` or `DataFrame.tail()`"
      ],
      "metadata": {
        "id": "-1K0MNfy-Q8e"
      }
    },
    {
      "cell_type": "code",
      "source": [
        "df.take(2)"
      ],
      "metadata": {
        "colab": {
          "base_uri": "https://localhost:8080/"
        },
        "id": "WzGPb6P-_BXc",
        "outputId": "9ca1e143-a928-4542-ed2e-d21210118de1"
      },
      "execution_count": null,
      "outputs": [
        {
          "output_type": "execute_result",
          "data": {
            "text/plain": [
              "[Row(a=1, b=2.0, c='string1', d=datetime.date(2000, 1, 1), e=datetime.datetime(2000, 1, 1, 12, 0)),\n",
              " Row(a=2, b=3.0, c='string2', d=datetime.date(2000, 2, 1), e=datetime.datetime(2000, 1, 2, 12, 0))]"
            ]
          },
          "metadata": {},
          "execution_count": 33
        }
      ]
    },
    {
      "cell_type": "markdown",
      "source": [
        "You can aslo converta PySpark DataFrame to Pandas DataFrame."
      ],
      "metadata": {
        "id": "0BX9UTCe_EVj"
      }
    },
    {
      "cell_type": "code",
      "source": [
        "df.toPandas()"
      ],
      "metadata": {
        "colab": {
          "base_uri": "https://localhost:8080/",
          "height": 143
        },
        "id": "O3LjPous_fjJ",
        "outputId": "be6a55ca-220d-446c-b697-f8567496cbc5"
      },
      "execution_count": null,
      "outputs": [
        {
          "output_type": "execute_result",
          "data": {
            "text/html": [
              "\n",
              "  <div id=\"df-71ed8098-72e9-4f48-96ad-df11fe29b862\">\n",
              "    <div class=\"colab-df-container\">\n",
              "      <div>\n",
              "<style scoped>\n",
              "    .dataframe tbody tr th:only-of-type {\n",
              "        vertical-align: middle;\n",
              "    }\n",
              "\n",
              "    .dataframe tbody tr th {\n",
              "        vertical-align: top;\n",
              "    }\n",
              "\n",
              "    .dataframe thead th {\n",
              "        text-align: right;\n",
              "    }\n",
              "</style>\n",
              "<table border=\"1\" class=\"dataframe\">\n",
              "  <thead>\n",
              "    <tr style=\"text-align: right;\">\n",
              "      <th></th>\n",
              "      <th>a</th>\n",
              "      <th>b</th>\n",
              "      <th>c</th>\n",
              "      <th>d</th>\n",
              "      <th>e</th>\n",
              "    </tr>\n",
              "  </thead>\n",
              "  <tbody>\n",
              "    <tr>\n",
              "      <th>0</th>\n",
              "      <td>1</td>\n",
              "      <td>2.0</td>\n",
              "      <td>string1</td>\n",
              "      <td>2000-01-01</td>\n",
              "      <td>2000-01-01 12:00:00</td>\n",
              "    </tr>\n",
              "    <tr>\n",
              "      <th>1</th>\n",
              "      <td>2</td>\n",
              "      <td>3.0</td>\n",
              "      <td>string2</td>\n",
              "      <td>2000-02-01</td>\n",
              "      <td>2000-01-02 12:00:00</td>\n",
              "    </tr>\n",
              "    <tr>\n",
              "      <th>2</th>\n",
              "      <td>4</td>\n",
              "      <td>5.0</td>\n",
              "      <td>string3</td>\n",
              "      <td>2000-03-01</td>\n",
              "      <td>2000-01-03 12:00:00</td>\n",
              "    </tr>\n",
              "  </tbody>\n",
              "</table>\n",
              "</div>\n",
              "      <button class=\"colab-df-convert\" onclick=\"convertToInteractive('df-71ed8098-72e9-4f48-96ad-df11fe29b862')\"\n",
              "              title=\"Convert this dataframe to an interactive table.\"\n",
              "              style=\"display:none;\">\n",
              "        \n",
              "  <svg xmlns=\"http://www.w3.org/2000/svg\" height=\"24px\"viewBox=\"0 0 24 24\"\n",
              "       width=\"24px\">\n",
              "    <path d=\"M0 0h24v24H0V0z\" fill=\"none\"/>\n",
              "    <path d=\"M18.56 5.44l.94 2.06.94-2.06 2.06-.94-2.06-.94-.94-2.06-.94 2.06-2.06.94zm-11 1L8.5 8.5l.94-2.06 2.06-.94-2.06-.94L8.5 2.5l-.94 2.06-2.06.94zm10 10l.94 2.06.94-2.06 2.06-.94-2.06-.94-.94-2.06-.94 2.06-2.06.94z\"/><path d=\"M17.41 7.96l-1.37-1.37c-.4-.4-.92-.59-1.43-.59-.52 0-1.04.2-1.43.59L10.3 9.45l-7.72 7.72c-.78.78-.78 2.05 0 2.83L4 21.41c.39.39.9.59 1.41.59.51 0 1.02-.2 1.41-.59l7.78-7.78 2.81-2.81c.8-.78.8-2.07 0-2.86zM5.41 20L4 18.59l7.72-7.72 1.47 1.35L5.41 20z\"/>\n",
              "  </svg>\n",
              "      </button>\n",
              "      \n",
              "  <style>\n",
              "    .colab-df-container {\n",
              "      display:flex;\n",
              "      flex-wrap:wrap;\n",
              "      gap: 12px;\n",
              "    }\n",
              "\n",
              "    .colab-df-convert {\n",
              "      background-color: #E8F0FE;\n",
              "      border: none;\n",
              "      border-radius: 50%;\n",
              "      cursor: pointer;\n",
              "      display: none;\n",
              "      fill: #1967D2;\n",
              "      height: 32px;\n",
              "      padding: 0 0 0 0;\n",
              "      width: 32px;\n",
              "    }\n",
              "\n",
              "    .colab-df-convert:hover {\n",
              "      background-color: #E2EBFA;\n",
              "      box-shadow: 0px 1px 2px rgba(60, 64, 67, 0.3), 0px 1px 3px 1px rgba(60, 64, 67, 0.15);\n",
              "      fill: #174EA6;\n",
              "    }\n",
              "\n",
              "    [theme=dark] .colab-df-convert {\n",
              "      background-color: #3B4455;\n",
              "      fill: #D2E3FC;\n",
              "    }\n",
              "\n",
              "    [theme=dark] .colab-df-convert:hover {\n",
              "      background-color: #434B5C;\n",
              "      box-shadow: 0px 1px 3px 1px rgba(0, 0, 0, 0.15);\n",
              "      filter: drop-shadow(0px 1px 2px rgba(0, 0, 0, 0.3));\n",
              "      fill: #FFFFFF;\n",
              "    }\n",
              "  </style>\n",
              "\n",
              "      <script>\n",
              "        const buttonEl =\n",
              "          document.querySelector('#df-71ed8098-72e9-4f48-96ad-df11fe29b862 button.colab-df-convert');\n",
              "        buttonEl.style.display =\n",
              "          google.colab.kernel.accessAllowed ? 'block' : 'none';\n",
              "\n",
              "        async function convertToInteractive(key) {\n",
              "          const element = document.querySelector('#df-71ed8098-72e9-4f48-96ad-df11fe29b862');\n",
              "          const dataTable =\n",
              "            await google.colab.kernel.invokeFunction('convertToInteractive',\n",
              "                                                     [key], {});\n",
              "          if (!dataTable) return;\n",
              "\n",
              "          const docLinkHtml = 'Like what you see? Visit the ' +\n",
              "            '<a target=\"_blank\" href=https://colab.research.google.com/notebooks/data_table.ipynb>data table notebook</a>'\n",
              "            + ' to learn more about interactive tables.';\n",
              "          element.innerHTML = '';\n",
              "          dataTable['output_type'] = 'display_data';\n",
              "          await google.colab.output.renderOutput(dataTable, element);\n",
              "          const docLink = document.createElement('div');\n",
              "          docLink.innerHTML = docLinkHtml;\n",
              "          element.appendChild(docLink);\n",
              "        }\n",
              "      </script>\n",
              "    </div>\n",
              "  </div>\n",
              "  "
            ],
            "text/plain": [
              "   a    b        c           d                   e\n",
              "0  1  2.0  string1  2000-01-01 2000-01-01 12:00:00\n",
              "1  2  3.0  string2  2000-02-01 2000-01-02 12:00:00\n",
              "2  4  5.0  string3  2000-03-01 2000-01-03 12:00:00"
            ]
          },
          "metadata": {},
          "execution_count": 34
        }
      ]
    },
    {
      "cell_type": "markdown",
      "metadata": {
        "id": "NnJHY5ZMAJRX"
      },
      "source": [
        "## Spark RDD"
      ]
    },
    {
      "cell_type": "code",
      "execution_count": null,
      "metadata": {
        "id": "np4S1QNdAJRY",
        "outputId": "3c6c870e-fa26-4d6f-896d-1c0b0683d14c",
        "colab": {
          "base_uri": "https://localhost:8080/"
        }
      },
      "outputs": [
        {
          "output_type": "execute_result",
          "data": {
            "text/plain": [
              "ParallelCollectionRDD[32] at readRDDFromFile at PythonRDD.scala:274"
            ]
          },
          "metadata": {},
          "execution_count": 46
        }
      ],
      "source": [
        "a = [0, 1, 2, 3, 4, 5, 6, 7, 8, 9]\n",
        "rdd1 = sc.parallelize(a)\n",
        "rdd1"
      ]
    },
    {
      "cell_type": "markdown",
      "metadata": {
        "id": "ewBlbxkeAJRZ"
      },
      "source": [
        "### RDD Primitive Operations"
      ]
    },
    {
      "cell_type": "code",
      "execution_count": null,
      "metadata": {
        "id": "zL6zzxmqAJRa",
        "outputId": "1bceacdc-7e07-4a36-bc36-765b26f0fe74",
        "colab": {
          "base_uri": "https://localhost:8080/"
        }
      },
      "outputs": [
        {
          "output_type": "stream",
          "name": "stdout",
          "text": [
            "First:  0\n",
            "Collect:  [0, 1, 2, 3, 4, 5, 6, 7, 8, 9]\n",
            "Count:  10\n",
            "Take:  [0, 1]\n",
            "Max:  9\n"
          ]
        }
      ],
      "source": [
        "print(\"First: \", rdd1.first())\n",
        "print(\"Collect: \", rdd1.collect())\n",
        "print(\"Count: \", rdd1.count())\n",
        "print(\"Take: \", rdd1.take(2))\n",
        "print(\"Max: \", rdd1.max())"
      ]
    },
    {
      "cell_type": "markdown",
      "metadata": {
        "id": "h1NSWQ8fAJRb"
      },
      "source": [
        "### reduce"
      ]
    },
    {
      "cell_type": "code",
      "execution_count": null,
      "metadata": {
        "id": "FuMUemLNAJRc",
        "outputId": "bfb600a2-9d63-42ca-c237-63e233f2d478",
        "colab": {
          "base_uri": "https://localhost:8080/"
        }
      },
      "outputs": [
        {
          "output_type": "stream",
          "name": "stdout",
          "text": [
            "9\n"
          ]
        }
      ],
      "source": [
        "def return_latter(x1, x2):\n",
        "    return x2\n",
        "\n",
        "print(rdd1.reduce(return_latter))"
      ]
    },
    {
      "cell_type": "code",
      "source": [
        "def return_sum(x1, x2):\n",
        "    return x1 + x2\n",
        "\n",
        "print(rdd1.reduce(return_sum))"
      ],
      "metadata": {
        "colab": {
          "base_uri": "https://localhost:8080/"
        },
        "id": "41S9VlhPDoOM",
        "outputId": "b60c822a-f2b3-40cb-b6d4-537d130823d2"
      },
      "execution_count": null,
      "outputs": [
        {
          "output_type": "stream",
          "name": "stdout",
          "text": [
            "45\n"
          ]
        }
      ]
    },
    {
      "cell_type": "markdown",
      "metadata": {
        "id": "XenCDVzmAJRc"
      },
      "source": [
        "### map"
      ]
    },
    {
      "cell_type": "code",
      "execution_count": null,
      "metadata": {
        "id": "Oh1FJMf0AJRd",
        "outputId": "a7260528-8d99-44e8-e084-d0159ea68c12",
        "colab": {
          "base_uri": "https://localhost:8080/"
        }
      },
      "outputs": [
        {
          "output_type": "execute_result",
          "data": {
            "text/plain": [
              "[0, 1, 4, 9, 16, 25, 36, 49, 64, 81]"
            ]
          },
          "metadata": {},
          "execution_count": 52
        }
      ],
      "source": [
        "rdd2 = rdd1.map(lambda x: x ** 2)\n",
        "rdd2.collect()"
      ]
    },
    {
      "cell_type": "markdown",
      "source": [
        "### filter"
      ],
      "metadata": {
        "id": "xBFgDLlbD4A4"
      }
    },
    {
      "cell_type": "code",
      "source": [
        "rdd3 = rdd1.filter(lambda x: x % 2 == 0)\n",
        "rdd3.collect()"
      ],
      "metadata": {
        "colab": {
          "base_uri": "https://localhost:8080/"
        },
        "id": "VSA5z5YDD2ZE",
        "outputId": "9d71f236-3bc6-45c5-911f-29d2bde3948c"
      },
      "execution_count": null,
      "outputs": [
        {
          "output_type": "execute_result",
          "data": {
            "text/plain": [
              "[0, 2, 4, 6, 8]"
            ]
          },
          "metadata": {},
          "execution_count": 53
        }
      ]
    },
    {
      "cell_type": "markdown",
      "metadata": {
        "id": "CxWKWfEPAJRd"
      },
      "source": [
        "### flatMap"
      ]
    },
    {
      "cell_type": "code",
      "execution_count": null,
      "metadata": {
        "id": "crxtfKXmAJRe",
        "outputId": "0229361d-8d08-4e9e-ab85-b2a5bd546c02",
        "colab": {
          "base_uri": "https://localhost:8080/"
        }
      },
      "outputs": [
        {
          "output_type": "execute_result",
          "data": {
            "text/plain": [
              "[0, 1, 2, 6, 2, 1, 0, 3]"
            ]
          },
          "metadata": {},
          "execution_count": 54
        }
      ],
      "source": [
        "rdd1 = sc.parallelize([(1, [0, 1, 2, 3]), (4, [6, 2, 1, 4, 3, 6]), (2, [0, 3])])\n",
        "rdd1 = rdd1.flatMap(lambda x: x[1][:3])\n",
        "rdd1.collect()"
      ]
    },
    {
      "cell_type": "markdown",
      "metadata": {
        "id": "F5lNBGzKAJRe"
      },
      "source": [
        "### Set Operations"
      ]
    },
    {
      "cell_type": "code",
      "execution_count": null,
      "metadata": {
        "id": "vT4bZMoqAJRe",
        "outputId": "650bd1bc-db60-4915-be57-1ad943684980",
        "colab": {
          "base_uri": "https://localhost:8080/"
        }
      },
      "outputs": [
        {
          "output_type": "stream",
          "name": "stdout",
          "text": [
            "Union:  [0, 1, 2, 3, 4, 5, 5, 6, 7, 8, 9, 4, 4, 5, 5, 13, 13, 14, 14]\n",
            "Intersection:  [4, 5]\n",
            "Distinct:  [4, 5, 13, 14]\n"
          ]
        }
      ],
      "source": [
        "rdd1 = sc.parallelize([0, 1, 2, 3, 4, 5, 5, 6, 7, 8, 9])\n",
        "rdd2 = sc.parallelize([4, 4, 5, 5, 13, 13, 14, 14])\n",
        "\n",
        "rdd3 = rdd1.union(rdd2)\n",
        "print(\"Union: \", rdd3.collect())\n",
        "\n",
        "rdd4 = rdd1.intersection(rdd2)\n",
        "print(\"Intersection: \", rdd4.collect())\n",
        "\n",
        "print(\"Distinct: \", rdd2.distinct().collect())"
      ]
    },
    {
      "cell_type": "markdown",
      "metadata": {
        "id": "IqbGPFsTAJRf"
      },
      "source": [
        "### Key Operations"
      ]
    },
    {
      "cell_type": "code",
      "source": [
        "rdd1 = sc.parallelize([(2, \"Pink Orange\"), (1, \"Green Apple\"), (4, \"Yellow Banana\"), (2, \"Red Orange\"), (2, \"Yellow Orange\")])"
      ],
      "metadata": {
        "id": "2HOBUUlHFYay"
      },
      "execution_count": null,
      "outputs": []
    },
    {
      "cell_type": "markdown",
      "source": [
        "#### Sort By Key"
      ],
      "metadata": {
        "id": "0XdRVc7yFm9L"
      }
    },
    {
      "cell_type": "code",
      "source": [
        "rdd2 = rdd1.sortByKey(ascending=True)\n",
        "rdd2.collect()"
      ],
      "metadata": {
        "colab": {
          "base_uri": "https://localhost:8080/"
        },
        "id": "yO1erIkLFVzG",
        "outputId": "3188065d-afd7-45b1-a746-2fe3bd61a7a6"
      },
      "execution_count": null,
      "outputs": [
        {
          "output_type": "execute_result",
          "data": {
            "text/plain": [
              "[(1, 'Green Apple'),\n",
              " (2, 'Pink Orange'),\n",
              " (2, 'Red Orange'),\n",
              " (2, 'Yellow Orange'),\n",
              " (4, 'Yellow Banana')]"
            ]
          },
          "metadata": {},
          "execution_count": 57
        }
      ]
    },
    {
      "cell_type": "markdown",
      "source": [
        "#### Reduce by Key"
      ],
      "metadata": {
        "id": "CZ0RSXIDFs79"
      }
    },
    {
      "cell_type": "code",
      "execution_count": null,
      "metadata": {
        "id": "tbV0l8-9AJRf",
        "outputId": "d7c37132-3de2-4ba1-dca2-8bb763a34e46",
        "colab": {
          "base_uri": "https://localhost:8080/"
        }
      },
      "outputs": [
        {
          "output_type": "execute_result",
          "data": {
            "text/plain": [
              "[(2, 'Pink Orange Red Orange Yellow Orange'),\n",
              " (1, 'Green Apple'),\n",
              " (4, 'Yellow Banana')]"
            ]
          },
          "metadata": {},
          "execution_count": 58
        }
      ],
      "source": [
        "rdd3 = rdd1.reduceByKey(lambda v1, v2: v1 + \" \" + v2)\n",
        "rdd3.collect()"
      ]
    },
    {
      "cell_type": "code",
      "source": [
        "rdd4 = rdd1.groupByKey()\n",
        "print(\"How Group looks like: \", rdd4.collect())"
      ],
      "metadata": {
        "colab": {
          "base_uri": "https://localhost:8080/"
        },
        "id": "XaCCba2HF4gt",
        "outputId": "0010b565-61ef-4c44-c574-05596acfd7dd"
      },
      "execution_count": null,
      "outputs": [
        {
          "output_type": "stream",
          "name": "stdout",
          "text": [
            "How Group looks like:  [(2, <pyspark.resultiterable.ResultIterable object at 0x7fe410825310>), (1, <pyspark.resultiterable.ResultIterable object at 0x7fe4107ea2d0>), (4, <pyspark.resultiterable.ResultIterable object at 0x7fe4107f0390>)]\n"
          ]
        }
      ]
    },
    {
      "cell_type": "code",
      "source": [
        "print(\"Map Operation with Group: \", rdd4.map(lambda x: (x[0], list(x[1]))).collect())"
      ],
      "metadata": {
        "colab": {
          "base_uri": "https://localhost:8080/"
        },
        "id": "-YnR87uDGi8q",
        "outputId": "df6324b1-e874-4801-c491-f36e27f4f947"
      },
      "execution_count": null,
      "outputs": [
        {
          "output_type": "stream",
          "name": "stdout",
          "text": [
            "Map Operation with Group:  [(2, ['Pink Orange', 'Red Orange', 'Yellow Orange']), (1, ['Green Apple']), (4, ['Yellow Banana'])]\n"
          ]
        }
      ]
    },
    {
      "cell_type": "markdown",
      "metadata": {
        "id": "bD8gsm1-AJRg"
      },
      "source": [
        "#### Chaining Oprations\n",
        "As we said before, the functions like map, filter, ... just do the planning. so we can plan with mutiple of them then call one of the actions like `collect()`"
      ]
    },
    {
      "cell_type": "code",
      "source": [
        "rdd1 = sc.parallelize(list(range(10)))"
      ],
      "metadata": {
        "id": "EL9V_-CcJC7b"
      },
      "execution_count": 8,
      "outputs": []
    },
    {
      "cell_type": "code",
      "execution_count": 9,
      "metadata": {
        "id": "HvJkVlH-AJRg",
        "outputId": "47d06f11-e70f-4626-b1dd-e450895b7484",
        "colab": {
          "base_uri": "https://localhost:8080/"
        }
      },
      "outputs": [
        {
          "output_type": "execute_result",
          "data": {
            "text/plain": [
              "[-10, -1, 26, 71]"
            ]
          },
          "metadata": {},
          "execution_count": 9
        }
      ],
      "source": [
        "rdd1 = rdd1.map(lambda x: x ** 2 ).map(lambda x: x - 10 ).filter(lambda x: x % 3).distinct()\n",
        "rdd1.collect()"
      ]
    },
    {
      "cell_type": "markdown",
      "source": [
        "## Reading with PySpark"
      ],
      "metadata": {
        "id": "bxmOqIUcLUtz"
      }
    },
    {
      "cell_type": "code",
      "source": [
        "! wget -q https://raw.githubusercontent.com/SajjadMb/PySpark-walkthrough/main/data/cities.csv -P ./data\n",
        "! wget -q https://raw.githubusercontent.com/SajjadMb/PySpark-walkthrough/main/data/text_test.txt -P ./data"
      ],
      "metadata": {
        "id": "4AWhXkf3LoVK"
      },
      "execution_count": 10,
      "outputs": []
    },
    {
      "cell_type": "markdown",
      "metadata": {
        "id": "gnvtj86uAJRg"
      },
      "source": [
        "### Reading from file"
      ]
    },
    {
      "cell_type": "code",
      "execution_count": 11,
      "metadata": {
        "id": "A5DlsEP1AJRh",
        "outputId": "e6faea93-279f-4d77-e1f2-434fee39b8ee",
        "colab": {
          "base_uri": "https://localhost:8080/"
        }
      },
      "outputs": [
        {
          "output_type": "execute_result",
          "data": {
            "text/plain": [
              "['hello', 'second line', 'last line', 'bye']"
            ]
          },
          "metadata": {},
          "execution_count": 11
        }
      ],
      "source": [
        "rdd1 = sc.textFile(\"./data/text_test.txt\")\n",
        "rdd1.collect()"
      ]
    },
    {
      "cell_type": "code",
      "execution_count": 12,
      "metadata": {
        "id": "XR_Kz5RIAJRh",
        "outputId": "a6874a13-61cd-466c-9658-c897e05fd36c",
        "colab": {
          "base_uri": "https://localhost:8080/",
          "height": 35
        }
      },
      "outputs": [
        {
          "output_type": "execute_result",
          "data": {
            "application/vnd.google.colaboratory.intrinsic+json": {
              "type": "string"
            },
            "text/plain": [
              "'h.e.s.e.l.a.b.y'"
            ]
          },
          "metadata": {},
          "execution_count": 12
        }
      ],
      "source": [
        "rdd1.map(lambda x: x[:2]).flatMap(lambda x: x).reduce(lambda x, y: x + '.' + y)"
      ]
    },
    {
      "cell_type": "markdown",
      "metadata": {
        "id": "SPvJ7sWxAJRh"
      },
      "source": [
        "### Reading from dataframe"
      ]
    },
    {
      "cell_type": "code",
      "source": [
        "import pandas as pd\n",
        "\n",
        "pdf = pd.read_csv(\"./data/cities.csv\")\n",
        "pdf.head()"
      ],
      "metadata": {
        "colab": {
          "base_uri": "https://localhost:8080/",
          "height": 206
        },
        "id": "T6kx7uiTPSaa",
        "outputId": "51e111e8-547c-4b0f-c465-819f9736beaa"
      },
      "execution_count": 14,
      "outputs": [
        {
          "output_type": "execute_result",
          "data": {
            "text/html": [
              "\n",
              "  <div id=\"df-3389d810-1a45-4a4f-b4ae-8febac1b9093\">\n",
              "    <div class=\"colab-df-container\">\n",
              "      <div>\n",
              "<style scoped>\n",
              "    .dataframe tbody tr th:only-of-type {\n",
              "        vertical-align: middle;\n",
              "    }\n",
              "\n",
              "    .dataframe tbody tr th {\n",
              "        vertical-align: top;\n",
              "    }\n",
              "\n",
              "    .dataframe thead th {\n",
              "        text-align: right;\n",
              "    }\n",
              "</style>\n",
              "<table border=\"1\" class=\"dataframe\">\n",
              "  <thead>\n",
              "    <tr style=\"text-align: right;\">\n",
              "      <th></th>\n",
              "      <th>LatD</th>\n",
              "      <th>\"LatM\"</th>\n",
              "      <th>\"LatS\"</th>\n",
              "      <th>\"NS\"</th>\n",
              "      <th>\"LonD\"</th>\n",
              "      <th>\"LonM\"</th>\n",
              "      <th>\"LonS\"</th>\n",
              "      <th>\"EW\"</th>\n",
              "      <th>\"City\"</th>\n",
              "      <th>\"State\"</th>\n",
              "    </tr>\n",
              "  </thead>\n",
              "  <tbody>\n",
              "    <tr>\n",
              "      <th>0</th>\n",
              "      <td>41</td>\n",
              "      <td>5</td>\n",
              "      <td>59</td>\n",
              "      <td>\"N\"</td>\n",
              "      <td>80</td>\n",
              "      <td>39</td>\n",
              "      <td>0</td>\n",
              "      <td>\"W\"</td>\n",
              "      <td>\"Youngstown\"</td>\n",
              "      <td>OH</td>\n",
              "    </tr>\n",
              "    <tr>\n",
              "      <th>1</th>\n",
              "      <td>42</td>\n",
              "      <td>52</td>\n",
              "      <td>48</td>\n",
              "      <td>\"N\"</td>\n",
              "      <td>97</td>\n",
              "      <td>23</td>\n",
              "      <td>23</td>\n",
              "      <td>\"W\"</td>\n",
              "      <td>\"Yankton\"</td>\n",
              "      <td>SD</td>\n",
              "    </tr>\n",
              "    <tr>\n",
              "      <th>2</th>\n",
              "      <td>46</td>\n",
              "      <td>35</td>\n",
              "      <td>59</td>\n",
              "      <td>\"N\"</td>\n",
              "      <td>120</td>\n",
              "      <td>30</td>\n",
              "      <td>36</td>\n",
              "      <td>\"W\"</td>\n",
              "      <td>\"Yakima\"</td>\n",
              "      <td>WA</td>\n",
              "    </tr>\n",
              "    <tr>\n",
              "      <th>3</th>\n",
              "      <td>42</td>\n",
              "      <td>16</td>\n",
              "      <td>12</td>\n",
              "      <td>\"N\"</td>\n",
              "      <td>71</td>\n",
              "      <td>48</td>\n",
              "      <td>0</td>\n",
              "      <td>\"W\"</td>\n",
              "      <td>\"Worcester\"</td>\n",
              "      <td>MA</td>\n",
              "    </tr>\n",
              "    <tr>\n",
              "      <th>4</th>\n",
              "      <td>43</td>\n",
              "      <td>37</td>\n",
              "      <td>48</td>\n",
              "      <td>\"N\"</td>\n",
              "      <td>89</td>\n",
              "      <td>46</td>\n",
              "      <td>11</td>\n",
              "      <td>\"W\"</td>\n",
              "      <td>\"Wisconsin Dells\"</td>\n",
              "      <td>WI</td>\n",
              "    </tr>\n",
              "  </tbody>\n",
              "</table>\n",
              "</div>\n",
              "      <button class=\"colab-df-convert\" onclick=\"convertToInteractive('df-3389d810-1a45-4a4f-b4ae-8febac1b9093')\"\n",
              "              title=\"Convert this dataframe to an interactive table.\"\n",
              "              style=\"display:none;\">\n",
              "        \n",
              "  <svg xmlns=\"http://www.w3.org/2000/svg\" height=\"24px\"viewBox=\"0 0 24 24\"\n",
              "       width=\"24px\">\n",
              "    <path d=\"M0 0h24v24H0V0z\" fill=\"none\"/>\n",
              "    <path d=\"M18.56 5.44l.94 2.06.94-2.06 2.06-.94-2.06-.94-.94-2.06-.94 2.06-2.06.94zm-11 1L8.5 8.5l.94-2.06 2.06-.94-2.06-.94L8.5 2.5l-.94 2.06-2.06.94zm10 10l.94 2.06.94-2.06 2.06-.94-2.06-.94-.94-2.06-.94 2.06-2.06.94z\"/><path d=\"M17.41 7.96l-1.37-1.37c-.4-.4-.92-.59-1.43-.59-.52 0-1.04.2-1.43.59L10.3 9.45l-7.72 7.72c-.78.78-.78 2.05 0 2.83L4 21.41c.39.39.9.59 1.41.59.51 0 1.02-.2 1.41-.59l7.78-7.78 2.81-2.81c.8-.78.8-2.07 0-2.86zM5.41 20L4 18.59l7.72-7.72 1.47 1.35L5.41 20z\"/>\n",
              "  </svg>\n",
              "      </button>\n",
              "      \n",
              "  <style>\n",
              "    .colab-df-container {\n",
              "      display:flex;\n",
              "      flex-wrap:wrap;\n",
              "      gap: 12px;\n",
              "    }\n",
              "\n",
              "    .colab-df-convert {\n",
              "      background-color: #E8F0FE;\n",
              "      border: none;\n",
              "      border-radius: 50%;\n",
              "      cursor: pointer;\n",
              "      display: none;\n",
              "      fill: #1967D2;\n",
              "      height: 32px;\n",
              "      padding: 0 0 0 0;\n",
              "      width: 32px;\n",
              "    }\n",
              "\n",
              "    .colab-df-convert:hover {\n",
              "      background-color: #E2EBFA;\n",
              "      box-shadow: 0px 1px 2px rgba(60, 64, 67, 0.3), 0px 1px 3px 1px rgba(60, 64, 67, 0.15);\n",
              "      fill: #174EA6;\n",
              "    }\n",
              "\n",
              "    [theme=dark] .colab-df-convert {\n",
              "      background-color: #3B4455;\n",
              "      fill: #D2E3FC;\n",
              "    }\n",
              "\n",
              "    [theme=dark] .colab-df-convert:hover {\n",
              "      background-color: #434B5C;\n",
              "      box-shadow: 0px 1px 3px 1px rgba(0, 0, 0, 0.15);\n",
              "      filter: drop-shadow(0px 1px 2px rgba(0, 0, 0, 0.3));\n",
              "      fill: #FFFFFF;\n",
              "    }\n",
              "  </style>\n",
              "\n",
              "      <script>\n",
              "        const buttonEl =\n",
              "          document.querySelector('#df-3389d810-1a45-4a4f-b4ae-8febac1b9093 button.colab-df-convert');\n",
              "        buttonEl.style.display =\n",
              "          google.colab.kernel.accessAllowed ? 'block' : 'none';\n",
              "\n",
              "        async function convertToInteractive(key) {\n",
              "          const element = document.querySelector('#df-3389d810-1a45-4a4f-b4ae-8febac1b9093');\n",
              "          const dataTable =\n",
              "            await google.colab.kernel.invokeFunction('convertToInteractive',\n",
              "                                                     [key], {});\n",
              "          if (!dataTable) return;\n",
              "\n",
              "          const docLinkHtml = 'Like what you see? Visit the ' +\n",
              "            '<a target=\"_blank\" href=https://colab.research.google.com/notebooks/data_table.ipynb>data table notebook</a>'\n",
              "            + ' to learn more about interactive tables.';\n",
              "          element.innerHTML = '';\n",
              "          dataTable['output_type'] = 'display_data';\n",
              "          await google.colab.output.renderOutput(dataTable, element);\n",
              "          const docLink = document.createElement('div');\n",
              "          docLink.innerHTML = docLinkHtml;\n",
              "          element.appendChild(docLink);\n",
              "        }\n",
              "      </script>\n",
              "    </div>\n",
              "  </div>\n",
              "  "
            ],
            "text/plain": [
              "   LatD   \"LatM\"   \"LatS\"  \"NS\"  ...   \"LonS\"   \"EW\"              \"City\"  \"State\"\n",
              "0    41        5       59   \"N\"  ...        0    \"W\"        \"Youngstown\"       OH\n",
              "1    42       52       48   \"N\"  ...       23    \"W\"           \"Yankton\"       SD\n",
              "2    46       35       59   \"N\"  ...       36    \"W\"            \"Yakima\"       WA\n",
              "3    42       16       12   \"N\"  ...        0    \"W\"         \"Worcester\"       MA\n",
              "4    43       37       48   \"N\"  ...       11    \"W\"   \"Wisconsin Dells\"       WI\n",
              "\n",
              "[5 rows x 10 columns]"
            ]
          },
          "metadata": {},
          "execution_count": 14
        }
      ]
    },
    {
      "cell_type": "code",
      "execution_count": 15,
      "metadata": {
        "id": "lA6EjNqqAJRh",
        "outputId": "71065310-54e2-4e54-d5b6-bcb61298453e",
        "colab": {
          "base_uri": "https://localhost:8080/"
        }
      },
      "outputs": [
        {
          "output_type": "stream",
          "name": "stdout",
          "text": [
            "+----+-------+-------+-----+-------+-------+-------+-----+------------------+--------+\n",
            "|LatD| \"LatM\"| \"LatS\"| \"NS\"| \"LonD\"| \"LonM\"| \"LonS\"| \"EW\"|            \"City\"| \"State\"|\n",
            "+----+-------+-------+-----+-------+-------+-------+-----+------------------+--------+\n",
            "|  41|      5|     59|  \"N\"|     80|     39|      0|  \"W\"|      \"Youngstown\"|      OH|\n",
            "|  42|     52|     48|  \"N\"|     97|     23|     23|  \"W\"|         \"Yankton\"|      SD|\n",
            "|  46|     35|     59|  \"N\"|    120|     30|     36|  \"W\"|          \"Yakima\"|      WA|\n",
            "|  42|     16|     12|  \"N\"|     71|     48|      0|  \"W\"|       \"Worcester\"|      MA|\n",
            "|  43|     37|     48|  \"N\"|     89|     46|     11|  \"W\"| \"Wisconsin Dells\"|      WI|\n",
            "|  36|      5|     59|  \"N\"|     80|     15|      0|  \"W\"|   \"Winston-Salem\"|      NC|\n",
            "|  49|     52|     48|  \"N\"|     97|      9|      0|  \"W\"|        \"Winnipeg\"|      MB|\n",
            "|  39|     11|     23|  \"N\"|     78|      9|     36|  \"W\"|      \"Winchester\"|      VA|\n",
            "|  34|     14|     24|  \"N\"|     77|     55|     11|  \"W\"|      \"Wilmington\"|      NC|\n",
            "|  39|     45|      0|  \"N\"|     75|     33|      0|  \"W\"|      \"Wilmington\"|      DE|\n",
            "|  48|      9|      0|  \"N\"|    103|     37|     12|  \"W\"|       \"Williston\"|      ND|\n",
            "|  41|     15|      0|  \"N\"|     77|      0|      0|  \"W\"|    \"Williamsport\"|      PA|\n",
            "|  37|     40|     48|  \"N\"|     82|     16|     47|  \"W\"|      \"Williamson\"|      WV|\n",
            "|  33|     54|      0|  \"N\"|     98|     29|     23|  \"W\"|   \"Wichita Falls\"|      TX|\n",
            "|  37|     41|     23|  \"N\"|     97|     20|     23|  \"W\"|         \"Wichita\"|      KS|\n",
            "|  40|      4|     11|  \"N\"|     80|     43|     12|  \"W\"|        \"Wheeling\"|      WV|\n",
            "|  26|     43|     11|  \"N\"|     80|      3|      0|  \"W\"| \"West Palm Beach\"|      FL|\n",
            "|  47|     25|     11|  \"N\"|    120|     19|     11|  \"W\"|       \"Wenatchee\"|      WA|\n",
            "|  41|     25|     11|  \"N\"|    122|     23|     23|  \"W\"|            \"Weed\"|      CA|\n",
            "|  31|     13|     11|  \"N\"|     82|     20|     59|  \"W\"|        \"Waycross\"|      GA|\n",
            "+----+-------+-------+-----+-------+-------+-------+-----+------------------+--------+\n",
            "only showing top 20 rows\n",
            "\n"
          ]
        }
      ],
      "source": [
        "df = spark.createDataFrame(data=pdf)\n",
        "df.show()"
      ]
    },
    {
      "cell_type": "markdown",
      "metadata": {
        "id": "IwhbiOt6AJRi"
      },
      "source": [
        "### Reading from csv"
      ]
    },
    {
      "cell_type": "code",
      "execution_count": 37,
      "metadata": {
        "id": "cA28t6m9AJRi",
        "outputId": "6bc9a501-6cb3-4fd2-f68a-39cd022ca048",
        "colab": {
          "base_uri": "https://localhost:8080/"
        }
      },
      "outputs": [
        {
          "output_type": "stream",
          "name": "stdout",
          "text": [
            "+-----+-------+-------+-----+-------+-------+-------+-----+------------------+--------+\n",
            "| LatD| \"LatM\"| \"LatS\"| \"NS\"| \"LonD\"| \"LonM\"| \"LonS\"| \"EW\"|            \"City\"| \"State\"|\n",
            "+-----+-------+-------+-----+-------+-------+-------+-----+------------------+--------+\n",
            "|   41|      5|     59|  \"N\"|     80|     39|      0|  \"W\"|      \"Youngstown\"|      OH|\n",
            "|   42|     52|     48|  \"N\"|     97|     23|     23|  \"W\"|         \"Yankton\"|      SD|\n",
            "|   46|     35|     59|  \"N\"|    120|     30|     36|  \"W\"|          \"Yakima\"|      WA|\n",
            "|   42|     16|     12|  \"N\"|     71|     48|      0|  \"W\"|       \"Worcester\"|      MA|\n",
            "|   43|     37|     48|  \"N\"|     89|     46|     11|  \"W\"| \"Wisconsin Dells\"|      WI|\n",
            "|   36|      5|     59|  \"N\"|     80|     15|      0|  \"W\"|   \"Winston-Salem\"|      NC|\n",
            "|   49|     52|     48|  \"N\"|     97|      9|      0|  \"W\"|        \"Winnipeg\"|      MB|\n",
            "|   39|     11|     23|  \"N\"|     78|      9|     36|  \"W\"|      \"Winchester\"|      VA|\n",
            "|   34|     14|     24|  \"N\"|     77|     55|     11|  \"W\"|      \"Wilmington\"|      NC|\n",
            "|   39|     45|      0|  \"N\"|     75|     33|      0|  \"W\"|      \"Wilmington\"|      DE|\n",
            "|   48|      9|      0|  \"N\"|    103|     37|     12|  \"W\"|       \"Williston\"|      ND|\n",
            "|   41|     15|      0|  \"N\"|     77|      0|      0|  \"W\"|    \"Williamsport\"|      PA|\n",
            "|   37|     40|     48|  \"N\"|     82|     16|     47|  \"W\"|      \"Williamson\"|      WV|\n",
            "|   33|     54|      0|  \"N\"|     98|     29|     23|  \"W\"|   \"Wichita Falls\"|      TX|\n",
            "|   37|     41|     23|  \"N\"|     97|     20|     23|  \"W\"|         \"Wichita\"|      KS|\n",
            "|   40|      4|     11|  \"N\"|     80|     43|     12|  \"W\"|        \"Wheeling\"|      WV|\n",
            "|   26|     43|     11|  \"N\"|     80|      3|      0|  \"W\"| \"West Palm Beach\"|      FL|\n",
            "|   47|     25|     11|  \"N\"|    120|     19|     11|  \"W\"|       \"Wenatchee\"|      WA|\n",
            "|   41|     25|     11|  \"N\"|    122|     23|     23|  \"W\"|            \"Weed\"|      CA|\n",
            "|   31|     13|     11|  \"N\"|     82|     20|     59|  \"W\"|        \"Waycross\"|      GA|\n",
            "+-----+-------+-------+-----+-------+-------+-------+-----+------------------+--------+\n",
            "only showing top 20 rows\n",
            "\n"
          ]
        }
      ],
      "source": [
        "df = spark.read.option(\"header\", True).csv(\"./data/cities.csv\")\n",
        "df.show()"
      ]
    },
    {
      "cell_type": "markdown",
      "metadata": {
        "id": "vkJx32-5AJRi"
      },
      "source": [
        "## SQL with spark"
      ]
    },
    {
      "cell_type": "markdown",
      "source": [
        "#### Create a Temp View from dataframe"
      ],
      "metadata": {
        "id": "WApnq5vRQKLJ"
      }
    },
    {
      "cell_type": "code",
      "source": [
        "df.createOrReplaceTempView(\"CITY_DATA\")"
      ],
      "metadata": {
        "id": "rE7kz8QwQBBS"
      },
      "execution_count": 20,
      "outputs": []
    },
    {
      "cell_type": "markdown",
      "source": [
        "#### Select "
      ],
      "metadata": {
        "id": "F72TsM3IQSSa"
      }
    },
    {
      "cell_type": "code",
      "execution_count": 21,
      "metadata": {
        "id": "CM2DtWItAJRj",
        "outputId": "cf307b0f-b94e-44c3-9697-824e644723b9",
        "colab": {
          "base_uri": "https://localhost:8080/"
        }
      },
      "outputs": [
        {
          "output_type": "stream",
          "name": "stdout",
          "text": [
            "+-----+-------+-------+-----+-------+-------+-------+-----+------------------+--------+\n",
            "| LatD| \"LatM\"| \"LatS\"| \"NS\"| \"LonD\"| \"LonM\"| \"LonS\"| \"EW\"|            \"City\"| \"State\"|\n",
            "+-----+-------+-------+-----+-------+-------+-------+-----+------------------+--------+\n",
            "|   41|      5|     59|  \"N\"|     80|     39|      0|  \"W\"|      \"Youngstown\"|      OH|\n",
            "|   42|     52|     48|  \"N\"|     97|     23|     23|  \"W\"|         \"Yankton\"|      SD|\n",
            "|   46|     35|     59|  \"N\"|    120|     30|     36|  \"W\"|          \"Yakima\"|      WA|\n",
            "|   42|     16|     12|  \"N\"|     71|     48|      0|  \"W\"|       \"Worcester\"|      MA|\n",
            "|   43|     37|     48|  \"N\"|     89|     46|     11|  \"W\"| \"Wisconsin Dells\"|      WI|\n",
            "|   36|      5|     59|  \"N\"|     80|     15|      0|  \"W\"|   \"Winston-Salem\"|      NC|\n",
            "|   49|     52|     48|  \"N\"|     97|      9|      0|  \"W\"|        \"Winnipeg\"|      MB|\n",
            "|   39|     11|     23|  \"N\"|     78|      9|     36|  \"W\"|      \"Winchester\"|      VA|\n",
            "|   34|     14|     24|  \"N\"|     77|     55|     11|  \"W\"|      \"Wilmington\"|      NC|\n",
            "|   39|     45|      0|  \"N\"|     75|     33|      0|  \"W\"|      \"Wilmington\"|      DE|\n",
            "|   48|      9|      0|  \"N\"|    103|     37|     12|  \"W\"|       \"Williston\"|      ND|\n",
            "|   41|     15|      0|  \"N\"|     77|      0|      0|  \"W\"|    \"Williamsport\"|      PA|\n",
            "|   37|     40|     48|  \"N\"|     82|     16|     47|  \"W\"|      \"Williamson\"|      WV|\n",
            "|   33|     54|      0|  \"N\"|     98|     29|     23|  \"W\"|   \"Wichita Falls\"|      TX|\n",
            "|   37|     41|     23|  \"N\"|     97|     20|     23|  \"W\"|         \"Wichita\"|      KS|\n",
            "|   40|      4|     11|  \"N\"|     80|     43|     12|  \"W\"|        \"Wheeling\"|      WV|\n",
            "|   26|     43|     11|  \"N\"|     80|      3|      0|  \"W\"| \"West Palm Beach\"|      FL|\n",
            "|   47|     25|     11|  \"N\"|    120|     19|     11|  \"W\"|       \"Wenatchee\"|      WA|\n",
            "|   41|     25|     11|  \"N\"|    122|     23|     23|  \"W\"|            \"Weed\"|      CA|\n",
            "|   31|     13|     11|  \"N\"|     82|     20|     59|  \"W\"|        \"Waycross\"|      GA|\n",
            "+-----+-------+-------+-----+-------+-------+-------+-----+------------------+--------+\n",
            "only showing top 20 rows\n",
            "\n"
          ]
        }
      ],
      "source": [
        "df2 = spark.sql('SELECT * from CITY_DATA')\n",
        "df2.show()"
      ]
    },
    {
      "cell_type": "code",
      "source": [
        "df2 = spark.sql('SELECT * from CITY_DATA')\n",
        "df2.show()"
      ],
      "metadata": {
        "colab": {
          "base_uri": "https://localhost:8080/"
        },
        "id": "P2zBlOUqQZX7",
        "outputId": "f3870d3a-3608-4e26-9efe-26c13586f4bd"
      },
      "execution_count": 46,
      "outputs": [
        {
          "output_type": "stream",
          "name": "stdout",
          "text": [
            "+-----+-------+-------+-----+-------+-------+-------+-----+------------------+--------+\n",
            "| LatD| \"LatM\"| \"LatS\"| \"NS\"| \"LonD\"| \"LonM\"| \"LonS\"| \"EW\"|            \"City\"| \"State\"|\n",
            "+-----+-------+-------+-----+-------+-------+-------+-----+------------------+--------+\n",
            "|   41|      5|     59|  \"N\"|     80|     39|      0|  \"W\"|      \"Youngstown\"|      OH|\n",
            "|   42|     52|     48|  \"N\"|     97|     23|     23|  \"W\"|         \"Yankton\"|      SD|\n",
            "|   46|     35|     59|  \"N\"|    120|     30|     36|  \"W\"|          \"Yakima\"|      WA|\n",
            "|   42|     16|     12|  \"N\"|     71|     48|      0|  \"W\"|       \"Worcester\"|      MA|\n",
            "|   43|     37|     48|  \"N\"|     89|     46|     11|  \"W\"| \"Wisconsin Dells\"|      WI|\n",
            "|   36|      5|     59|  \"N\"|     80|     15|      0|  \"W\"|   \"Winston-Salem\"|      NC|\n",
            "|   49|     52|     48|  \"N\"|     97|      9|      0|  \"W\"|        \"Winnipeg\"|      MB|\n",
            "|   39|     11|     23|  \"N\"|     78|      9|     36|  \"W\"|      \"Winchester\"|      VA|\n",
            "|   34|     14|     24|  \"N\"|     77|     55|     11|  \"W\"|      \"Wilmington\"|      NC|\n",
            "|   39|     45|      0|  \"N\"|     75|     33|      0|  \"W\"|      \"Wilmington\"|      DE|\n",
            "|   48|      9|      0|  \"N\"|    103|     37|     12|  \"W\"|       \"Williston\"|      ND|\n",
            "|   41|     15|      0|  \"N\"|     77|      0|      0|  \"W\"|    \"Williamsport\"|      PA|\n",
            "|   37|     40|     48|  \"N\"|     82|     16|     47|  \"W\"|      \"Williamson\"|      WV|\n",
            "|   33|     54|      0|  \"N\"|     98|     29|     23|  \"W\"|   \"Wichita Falls\"|      TX|\n",
            "|   37|     41|     23|  \"N\"|     97|     20|     23|  \"W\"|         \"Wichita\"|      KS|\n",
            "|   40|      4|     11|  \"N\"|     80|     43|     12|  \"W\"|        \"Wheeling\"|      WV|\n",
            "|   26|     43|     11|  \"N\"|     80|      3|      0|  \"W\"| \"West Palm Beach\"|      FL|\n",
            "|   47|     25|     11|  \"N\"|    120|     19|     11|  \"W\"|       \"Wenatchee\"|      WA|\n",
            "|   41|     25|     11|  \"N\"|    122|     23|     23|  \"W\"|            \"Weed\"|      CA|\n",
            "|   31|     13|     11|  \"N\"|     82|     20|     59|  \"W\"|        \"Waycross\"|      GA|\n",
            "+-----+-------+-------+-----+-------+-------+-------+-----+------------------+--------+\n",
            "only showing top 20 rows\n",
            "\n"
          ]
        }
      ]
    },
    {
      "cell_type": "markdown",
      "source": [
        "## User Defiend Fucntion (UDF)"
      ],
      "metadata": {
        "id": "hi-h-Sx9TEWy"
      }
    },
    {
      "cell_type": "code",
      "source": [
        "# Clean"
      ],
      "metadata": {
        "id": "1TiUOnA9TLQg"
      },
      "execution_count": null,
      "outputs": []
    }
  ]
}